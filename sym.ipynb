{
 "metadata": {
  "language_info": {
   "codemirror_mode": {
    "name": "ipython",
    "version": 3
   },
   "file_extension": ".py",
   "mimetype": "text/x-python",
   "name": "python",
   "nbconvert_exporter": "python",
   "pygments_lexer": "ipython3",
   "version": "3.6.9-final"
  },
  "orig_nbformat": 2,
  "kernelspec": {
   "name": "python_defaultSpec_1599838171339",
   "display_name": "Python 3.6.9 64-bit"
  }
 },
 "nbformat": 4,
 "nbformat_minor": 2,
 "cells": [
  {
   "source": [
    "# <code>SymPy</code> for Finite Difference schemes\n",
    "Finite difference schemes are used to estimate higher derivatives using the function values at surrounding points. The function is assumed to admit Taylor series (as is the case with most physical fields) and the surrounding values are expanded in Taylor series and higher derivatives are matched to get the coefficients. This process can be coded with <code>SymPy</code> (or other symbolic manipulation software)"
   ],
   "cell_type": "markdown",
   "metadata": {}
  },
  {
   "source": [
    "## F.D. Schemes\n",
    "A typical finite difference scheme for the first derivative looks like this :\n",
    "\\begin{equation}\n",
    "    \\sum_{n=-1}^{+1} l_{i+n} f'(x_{i+n}) = \\sum_{n=-2}^{+2} r_{i+n} f(x_{i+n})\n",
    "\\end{equation}\n",
    "The first derivatives (R.H.S.) and function values (L.H.S.) are related linearly and coefficients $l_{i+n}, r_{i+n}$ are evaluated such that higher derivatives are matched in the scheme. Here, we have 3 $f'$ terms in L.H.S. and 5 $f$ terms in R.H.S."
   ],
   "cell_type": "markdown",
   "metadata": {}
  },
  {
   "source": [
    "## Taylor series\n",
    "We expand all the $f$ terms i.e., function and it's derivative using Taylor series about the point of interest (where we need the derivative). A typical Taylor series expansion of $f(x_{i+1})$ about $x_{i}$ (point of interest) is given below :\n",
    "\\begin{equation}\n",
    "f(x_{i+1}) = f(x_{i}) + h_r f'(x_{i}) + \\dfrac{h_r^2}{2!}f''(x_{i}) + \\cdots\n",
    "\\end{equation}\n",
    "where $h_r=x_{i+1}-x_{i}$"
   ],
   "cell_type": "markdown",
   "metadata": {}
  },
  {
   "source": [
    "## Example\n",
    "Let's evaluate the coefficients for an explicit three-point first derivative scheme given as $f'_i = a f_{i-1} + b f_{i} + c f_{i+1}$ using <code>SymPy</code>"
   ],
   "cell_type": "markdown",
   "metadata": {}
  },
  {
   "cell_type": "code",
   "execution_count": 4,
   "metadata": {},
   "outputs": [],
   "source": [
    "## Importing required packages\n",
    "from sympy import symbols, Function, series, diff, Eq, linsolve, pprint"
   ]
  },
  {
   "cell_type": "code",
   "execution_count": 21,
   "metadata": {},
   "outputs": [],
   "source": [
    "## Declaring symbols\n",
    "x, x0, hl, hr = symbols('x x0 hl hr')\n",
    "a, b, c       = symbols('a b c')\n",
    "## Declaring function\n",
    "f             = symbols('f', cls=Function, real=True)"
   ]
  },
  {
   "cell_type": "code",
   "execution_count": 35,
   "metadata": {
    "tags": []
   },
   "outputs": [
    {
     "output_type": "stream",
     "name": "stdout",
     "text": "\n\n                              2                 3                 \n                          2  d              3  d                  \n                        hr ⋅────(f(x₀))   hr ⋅────(f(x₀))         \n                               2                 3                \n            d               dx₀               dx₀            ⎛  4⎞\nf(x₀) + hr⋅───(f(x₀)) + ─────────────── + ─────────────── + O⎝hr ⎠\n           dx₀                 2                 6                \n                              2                 3                 \n                          2  d              3  d                  \n                        hl ⋅────(f(x₀))   hl ⋅────(f(x₀))         \n                               2                 3                \n            d               dx₀               dx₀            ⎛  4⎞\nf(x₀) - hl⋅───(f(x₀)) + ─────────────── - ─────────────── + O⎝hl ⎠\n           dx₀                 2                 6                \n"
    }
   ],
   "source": [
    "## Taylor series of all terms { f_{i+1}, f_{i-1} } about x0 upto n(=4) terms\n",
    "fr = series(f(x), x=x, x0=x0, n=4, dir='+').doit().subs(x, x0+hr) # fr (f right) => f_{i+1}\n",
    "fl = series(f(x), x=x, x0=x0, n=4, dir='-').doit().subs(x, x0-hl) # fr (f left)  => f_{i-1}\n",
    "print('\\n') # empty line just for spacing\n",
    "pprint(fr)  # pretty print of fr\n",
    "pprint(fl)  # pretty print of fl"
   ]
  },
  {
   "cell_type": "code",
   "execution_count": 76,
   "metadata": {
    "tags": []
   },
   "outputs": [
    {
     "output_type": "stream",
     "name": "stdout",
     "text": "\n\n        3                   2                                                 \n    3  d                2  d                                                  \na⋅hl ⋅────(f(x₀))   a⋅hl ⋅────(f(x₀))                                         \n         3                   2                                                \n      dx₀                 dx₀                 d                               \n───────────────── - ───────────────── + a⋅hl⋅───(f(x₀)) - a⋅f(x₀) - b⋅f(x₀) - \n        6                   2                dx₀                              \n\n        3                   2                                                 \n    3  d                2  d                                                  \nc⋅hr ⋅────(f(x₀))   c⋅hr ⋅────(f(x₀))                                         \n         3                   2                                                \n      dx₀                 dx₀                 d                      d        \n───────────────── - ───────────────── - c⋅hr⋅───(f(x₀)) - c⋅f(x₀) + ───(f(x₀))\n        6                   2                dx₀                    dx₀       \n"
    }
   ],
   "source": [
    "## the scheme written as L.H.S. - R.H.S.\n",
    "stencil = diff(f(x0), x0, n=1) - a*fl - b*f(x0) - c*fr\n",
    "# expands and removes the last order terms O(h^4)\n",
    "stencil = stencil.expand().removeO()\n",
    "print('\\n')\n",
    "pprint(stencil)"
   ]
  },
  {
   "cell_type": "code",
   "execution_count": 69,
   "metadata": {
    "tags": []
   },
   "outputs": [
    {
     "output_type": "stream",
     "name": "stdout",
     "text": "-a - b - c\na*hl - c*hr + 1\n-a*hl**2/2 - c*hr**2/2\na*hl**3/6 - c*hr**3/6\n"
    }
   ],
   "source": [
    "# here cn are coefficient of n th derivative in stencil expression where n={0,1,2,3}\n",
    "c0 = stencil.coeff(diff(f(x0),x0,0)); print(c0)\n",
    "c1 = stencil.coeff(diff(f(x0),x0,1)); print(c1)\n",
    "c2 = stencil.coeff(diff(f(x0),x0,2)); print(c2)\n",
    "c3 = stencil.coeff(diff(f(x0),x0,3)); print(c3)"
   ]
  },
  {
   "cell_type": "code",
   "execution_count": 71,
   "metadata": {
    "tags": []
   },
   "outputs": [
    {
     "output_type": "stream",
     "name": "stdout",
     "text": "⎧⎛    -hr       -hl + hr       hl     ⎞⎫\n⎨⎜────────────, ────────, ────────────⎟⎬\n⎩⎝hl⋅(hl + hr)   hl⋅hr    hr⋅(hl + hr)⎠⎭\n"
    }
   ],
   "source": [
    "## Solution of linear system using linsolve\n",
    "# Eq(c0,0) is [c0 == 0] and we solve for a, b and c (3 unknowns) satisfying c0, c1, c2 (3 equations)\n",
    "sol = linsolve([Eq(c0,0), Eq(c1,0), Eq(c2,0)], (a, b, c))\n",
    "# We print the solution obtained\n",
    "pprint(sol)"
   ]
  },
  {
   "cell_type": "code",
   "execution_count": 73,
   "metadata": {
    "tags": []
   },
   "outputs": [
    {
     "output_type": "stream",
     "name": "stdout",
     "text": "Leading Order Truncation Error Term is :\n         3         \n        d          \n-hl⋅hr⋅────(f(x₀)) \n          3        \n       dx₀         \n───────────────────\n         6         \n"
    }
   ],
   "source": [
    "print('Leading Order Truncation Error Term is :')\n",
    "# leading order error is obtained by substituting the solution in stencil expression (used n=4)\n",
    "pprint(c3.subs([(a,sol.args[0][0]),(b,sol.args[0][1]),(c,sol.args[0][2])]).simplify()*diff(f(x0),x0,3))"
   ]
  },
  {
   "source": [
    "## This concludes the demonstration of <code>SymPy</code> for the example scheme. This can be extended for higher order explicit and implicit schemes seamlessly."
   ],
   "cell_type": "markdown",
   "metadata": {}
  }
 ]
}